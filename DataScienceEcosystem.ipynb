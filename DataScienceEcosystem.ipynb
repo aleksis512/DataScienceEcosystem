{
 "cells": [
  {
   "cell_type": "markdown",
   "id": "ed6f6fbf",
   "metadata": {},
   "source": [
    "# Data Science Tools and Ecosystem \n"
   ]
  },
  {
   "cell_type": "markdown",
   "id": "d030ec8e",
   "metadata": {},
   "source": [
    "In this notebook, Data Science Tools and Ecosystem are summarized."
   ]
  },
  {
   "cell_type": "markdown",
   "id": "f34e655d",
   "metadata": {},
   "source": [
    "Some of the popular languages that Data Scientists use are:\n",
    "1. Python\n",
    "\n",
    "2. R\n",
    "\n",
    "3. SQL\n",
    "\n",
    "4. Scala\n",
    "\n",
    "5. Java\n",
    "\n",
    "6. C++\n",
    "\n",
    "7. Julia\n",
    "\n",
    "8. JavaScript\n",
    "\n",
    "9. PHP\n",
    "\n",
    "10. Go\n",
    "\n",
    "11. Ruby\n",
    "\n",
    "12. Visual Basic"
   ]
  },
  {
   "cell_type": "markdown",
   "id": "65452448",
   "metadata": {},
   "source": [
    "Some of the commonly used libraries used by Data Scientists include:\n",
    "\n",
    "1. Pandas\n",
    "2. Numpy\n",
    "3. Matplotlib\n",
    "4. Seaborn\n",
    "5. Scikit-learn\n",
    "6. Keras\n",
    "7. TensorFlow\n",
    "8. PyTorch\n",
    "9. Apache Spark\n",
    "10. Vegas\n",
    "11. Big DL\n",
    "12. Ggplot2"
   ]
  },
  {
   "cell_type": "markdown",
   "id": "657e2f43",
   "metadata": {},
   "source": [
    "| Data Science Tools |\n",
    "|----------|\n",
    "|   Spyder | \n",
    "|   RStudio  |  \n",
    "|  Jupyter Notebooks  | \n"
   ]
  },
  {
   "cell_type": "markdown",
   "id": "11456bb5",
   "metadata": {},
   "source": [
    "### Below are a few examples of evaluating arithmetic expressions in Python."
   ]
  },
  {
   "cell_type": "code",
   "execution_count": 5,
   "id": "d175ddc5",
   "metadata": {
    "scrolled": true
   },
   "outputs": [
    {
     "data": {
      "text/plain": [
       "17"
      ]
     },
     "execution_count": 5,
     "metadata": {},
     "output_type": "execute_result"
    }
   ],
   "source": [
    "# This a simple arithmetic expression to mutiply then add integers\n",
    "(3*4)+5\n"
   ]
  },
  {
   "cell_type": "code",
   "execution_count": 10,
   "id": "94c0b5b3",
   "metadata": {},
   "outputs": [
    {
     "name": "stdout",
     "output_type": "stream",
     "text": [
      "3.33\n"
     ]
    }
   ],
   "source": [
    "# This will convert 200 minutes to hours by diving by 60\n",
    "minutes = 200\n",
    "hours = minutes / 60\n",
    "print(round(hours,2))"
   ]
  },
  {
   "cell_type": "markdown",
   "id": "7417f101",
   "metadata": {},
   "source": [
    "# Objectives\n"
   ]
  },
  {
   "cell_type": "code",
   "execution_count": null,
   "id": "7899019d",
   "metadata": {},
   "outputs": [],
   "source": []
  },
  {
   "cell_type": "markdown",
   "id": "880fa2e8",
   "metadata": {},
   "source": [
    "### Objetives:\n",
    "\n",
    "- List popular languages for Data Science\n",
    "- Commonly used libraries by Data Scientists\n",
    "- How to create a table using Markdown in Jupyter Notebooks\n",
    "- Examples of evaluating arithmetic expressions in Python\n",
    "- Three open source development environment tools used in data science"
   ]
  },
  {
   "cell_type": "markdown",
   "id": "56f164f3",
   "metadata": {},
   "source": [
    "## Author(s)\n",
    "\n",
    "Alexis Jock Camac Alcalá"
   ]
  }
 ],
 "metadata": {
  "kernelspec": {
   "display_name": "Python 3 (ipykernel)",
   "language": "python",
   "name": "python3"
  },
  "language_info": {
   "codemirror_mode": {
    "name": "ipython",
    "version": 3
   },
   "file_extension": ".py",
   "mimetype": "text/x-python",
   "name": "python",
   "nbconvert_exporter": "python",
   "pygments_lexer": "ipython3",
   "version": "3.11.3"
  }
 },
 "nbformat": 4,
 "nbformat_minor": 5
}
