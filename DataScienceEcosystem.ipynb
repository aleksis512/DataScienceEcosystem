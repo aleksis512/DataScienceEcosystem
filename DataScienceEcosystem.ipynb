{
 "cells": [
  {
   "cell_type": "markdown",
   "id": "c5fdc1ab",
   "metadata": {},
   "source": [
    "# Data Science Tools and Ecosystem \n"
   ]
  },
  {
   "cell_type": "markdown",
   "id": "2a561393",
   "metadata": {},
   "source": [
    "In this notebook, Data Science Tools and Ecosystem are summarized."
   ]
  },
  {
   "cell_type": "markdown",
   "id": "7868e5c7",
   "metadata": {},
   "source": [
    "Some of the popular languages that Data Scientists use are:\n",
    "1. R\n",
    "2. Python\n",
    "3. SQL\n",
    "4. Java"
   ]
  },
  {
   "cell_type": "markdown",
   "id": "57bf4ed1",
   "metadata": {},
   "source": [
    "Some of the commonly used libraries used by Data Scientists include:\n",
    "\n",
    "1. Scikit-learn\n",
    "2. NumPy\n",
    "3. Matplotlib\n",
    "4. Pandas\n"
   ]
  },
  {
   "cell_type": "markdown",
   "id": "5c271fcb",
   "metadata": {},
   "source": [
    "| Data Science Tools |\n",
    "|----------|\n",
    "|   Spyder | \n",
    "|   RStudio  |  \n",
    "|  Jupyter Notebooks  | \n"
   ]
  },
  {
   "cell_type": "markdown",
   "id": "7dbb91e0",
   "metadata": {},
   "source": [
    "### Below are a few examples of evaluating arithmetic expressions in Python."
   ]
  },
  {
   "cell_type": "code",
   "execution_count": 5,
   "id": "463be378",
   "metadata": {
    "scrolled": true
   },
   "outputs": [
    {
     "data": {
      "text/plain": [
       "17"
      ]
     },
     "execution_count": 5,
     "metadata": {},
     "output_type": "execute_result"
    }
   ],
   "source": [
    "# This a simple arithmetic expression to mutiply then add integers\n",
    "(3*4)+5\n"
   ]
  },
  {
   "cell_type": "code",
   "execution_count": 8,
   "id": "33c7ad77",
   "metadata": {},
   "outputs": [
    {
     "name": "stdout",
     "output_type": "stream",
     "text": [
      "200 minutes is  3.33 hours\n"
     ]
    }
   ],
   "source": [
    "# This will convert 200 minutes to hours by diving by 60\n",
    "minutes = 200\n",
    "hours = minutes / 60\n",
    "print(\"200 minutes is \", round(hours,2), \"hours\")"
   ]
  },
  {
   "cell_type": "markdown",
   "id": "8356a3e3",
   "metadata": {},
   "source": [
    "# Objectives\n"
   ]
  },
  {
   "cell_type": "code",
   "execution_count": null,
   "id": "0c2e8976",
   "metadata": {},
   "outputs": [],
   "source": []
  },
  {
   "cell_type": "markdown",
   "id": "c094e814",
   "metadata": {},
   "source": [
    "### Items Covered in This Notebook\n",
    "\n",
    "- List popular languages for Data Science\n",
    "- Commonly used libraries by Data Scientists\n",
    "- How to create a table using Markdown in Jupyter Notebooks\n",
    "- Examples of evaluating arithmetic expressions in Python\n",
    "- Three open source development environment tools used in data science"
   ]
  },
  {
   "cell_type": "markdown",
   "id": "df0c866a",
   "metadata": {},
   "source": [
    "## Author\n",
    "\n",
    "Alexis Jock Camac Alcalá"
   ]
  }
 ],
 "metadata": {
  "kernelspec": {
   "display_name": "Python 3 (ipykernel)",
   "language": "python",
   "name": "python3"
  },
  "language_info": {
   "codemirror_mode": {
    "name": "ipython",
    "version": 3
   },
   "file_extension": ".py",
   "mimetype": "text/x-python",
   "name": "python",
   "nbconvert_exporter": "python",
   "pygments_lexer": "ipython3",
   "version": "3.11.3"
  }
 },
 "nbformat": 4,
 "nbformat_minor": 5
}
